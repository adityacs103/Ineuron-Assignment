{
 "cells": [
  {
   "cell_type": "markdown",
   "metadata": {},
   "source": [
    "Q1. Why are functions advantageous to have in your programs?\n",
    "-  we are using function to avoide writing the same code again and again for different inputs, we can do the function calls to re-use code again and again."
   ]
  },
  {
   "cell_type": "markdown",
   "metadata": {},
   "source": [
    "Q2. When does the code in a function run: when it's specified or when it's called?\n",
    "- when we call the function code will be run, when it's called."
   ]
  },
  {
   "cell_type": "markdown",
   "metadata": {},
   "source": [
    "Q3. What statement creates a function?\n",
    "- def Function_name():\n",
    "    - function_budy"
   ]
  },
  {
   "cell_type": "code",
   "execution_count": 1,
   "metadata": {},
   "outputs": [],
   "source": [
    "def function_name():\n",
    "    print(\"Function body\")"
   ]
  },
  {
   "cell_type": "markdown",
   "metadata": {},
   "source": [
    "Q4. What is the difference between a function and a function call?\n",
    "- Function in Python is defined by the “def ” statement followed by the\n",
    "function name and parentheses\n",
    "- we can call it by writing function_name()  Following is the syntax for calling a function."
   ]
  },
  {
   "cell_type": "code",
   "execution_count": 2,
   "metadata": {},
   "outputs": [
    {
     "name": "stdout",
     "output_type": "stream",
     "text": [
      "Function body\n"
     ]
    }
   ],
   "source": [
    "# function Defenition\n",
    "def function_name():\n",
    "    print(\"Function body\")\n",
    "\n",
    "function_name()  # Function call"
   ]
  },
  {
   "cell_type": "code",
   "execution_count": null,
   "metadata": {},
   "outputs": [],
   "source": []
  },
  {
   "cell_type": "markdown",
   "metadata": {},
   "source": [
    "Q5. How many global scopes are there in a Python program? How many local scopes?\n",
    "- if we create a global variable then it is global scope. There is only one global scope\n",
    "- if we create a variable inside a function then it is called local scope for that function."
   ]
  },
  {
   "cell_type": "markdown",
   "metadata": {},
   "source": [
    "Q6. What happens to variables in a local scope when the function call returns?\n",
    "- when function returns variable recieve by that function where it calls."
   ]
  },
  {
   "cell_type": "markdown",
   "metadata": {},
   "source": [
    "Q7. What is the concept of a return value? Is it possible to have a return\n",
    "value in an expression?\n",
    "- In general a function takes arguments, performs some operations and returns a value. The value that a function returns known as the function’s return value.\n",
    "- yes, it possible to have a return\n",
    "value in an expression "
   ]
  },
  {
   "cell_type": "markdown",
   "metadata": {},
   "source": [
    "Q8. If a function does not have a return statement, what is the return value of a call to that function?\n",
    "- If a function does not have a return statement that means the function is not returning any values.\n",
    "- In this case after function is executed completly it will return a NoneType."
   ]
  },
  {
   "cell_type": "markdown",
   "metadata": {},
   "source": [
    "Q9. How do you make a function variable refer to the global variable?\n",
    "- if any variable is local variable we can make it into global variable by using global keyword"
   ]
  },
  {
   "cell_type": "code",
   "execution_count": null,
   "metadata": {},
   "outputs": [],
   "source": [
    "def function_name():\n",
    "    global x # making local variable to global variable\n",
    "    x=10\n",
    "    print(x)\n",
    "function_name()\n",
    "print(x)\n"
   ]
  },
  {
   "cell_type": "markdown",
   "metadata": {},
   "source": [
    "Q10. What is the data type of None?\n",
    "- None is used to define a null value.There is no null in Python, we can use None instead of using null values."
   ]
  },
  {
   "cell_type": "markdown",
   "metadata": {},
   "source": [
    "Q11. What does the sentence import areallyourpetsnamederic do?\n",
    "- The statement \"import areallyourpetsnamederic\" will import the module or package areallyourpetsnamederic."
   ]
  },
  {
   "cell_type": "markdown",
   "metadata": {},
   "source": [
    "Q12. If you had a bacon() feature in a spam module, what would you call it after importing spam?"
   ]
  },
  {
   "cell_type": "code",
   "execution_count": 4,
   "metadata": {},
   "outputs": [],
   "source": [
    "# import spam\n",
    "# spam.bacon()"
   ]
  },
  {
   "cell_type": "markdown",
   "metadata": {},
   "source": [
    "Q13. What can you do to save a programme from crashing if it encounters an error?\n",
    "- we can use \"try\" and \"except\" to save the programe from crashing."
   ]
  },
  {
   "cell_type": "code",
   "execution_count": 5,
   "metadata": {},
   "outputs": [],
   "source": [
    "try:\n",
    "    pass\n",
    "except:\n",
    "    pass"
   ]
  },
  {
   "cell_type": "markdown",
   "metadata": {},
   "source": [
    "Q14. What is the purpose of the try clause? What is the purpose of the except clause?\n",
    "- Try and Except statement is used to handle these errors within our code in Python. The try block is used to check some code for errors.the code inside the try block will execute when there is no error in the program. if any error in the try block then except block execut."
   ]
  }
 ],
 "metadata": {
  "kernelspec": {
   "display_name": "Python 3.9.12 ('base')",
   "language": "python",
   "name": "python3"
  },
  "language_info": {
   "codemirror_mode": {
    "name": "ipython",
    "version": 3
   },
   "file_extension": ".py",
   "mimetype": "text/x-python",
   "name": "python",
   "nbconvert_exporter": "python",
   "pygments_lexer": "ipython3",
   "version": "3.9.12"
  },
  "orig_nbformat": 4,
  "vscode": {
   "interpreter": {
    "hash": "8891f3cfb547db503e78f25128202364d60f1c09259e140a1bd236c27b0b7a43"
   }
  }
 },
 "nbformat": 4,
 "nbformat_minor": 2
}
