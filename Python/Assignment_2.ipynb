{
 "cells": [
  {
   "cell_type": "markdown",
   "metadata": {},
   "source": [
    "Q1. What are the two values of the Boolean data type? How do you write them?\n",
    "- There are two type of boolean data type\n",
    "- a. True \n",
    "- b. False\n",
    "    - x=5\n",
    "    - y=5\n",
    "    - print(bool(x==y))"
   ]
  },
  {
   "cell_type": "markdown",
   "metadata": {},
   "source": [
    "Q2. What are the three different types of Boolean operators?\n",
    "- 1. AND\n",
    "- 2. NOT\n",
    "- 3. OR"
   ]
  },
  {
   "cell_type": "markdown",
   "metadata": {},
   "source": [
    "Q3.Make a list of each Boolean operators truth tables (i.e. every possible \n",
    "combination of Boolean\n",
    "values for the operator and what it evaluate ).\n",
    "- True AND True is True.\n",
    "- True AND False is False.\n",
    "- False AND True is False.\n",
    "- False AND False is False.\n",
    "- True OR True is True.\n",
    "- True OR False is True.\n",
    "- False OR True is True.\n",
    "- False OR False is False.\n",
    "- NOT True is False.\n",
    "- NOT False is True.\n",
    "\n",
    "- Truth Table for AND\n",
    "-   \n",
    "    - A B output\n",
    "    - 0 0 0\n",
    "    - 0 1 0\n",
    "    - 1 0 0\n",
    "    - 1 1 1\n",
    "    - Truth Table for OR\n",
    "    - A B output\n",
    "    - 0 0 0\n",
    "    - 0 1 1\n",
    "    - 1 0 1\n",
    "    - 1 1 1\n",
    "    - Truth Table for NOT\n",
    "    - A output\n",
    "    - 0 1\n",
    "    - 1 0"
   ]
  },
  {
   "cell_type": "markdown",
   "metadata": {},
   "source": [
    "Q4. What are the values of the following expressions?\n",
    "- (5 > 4) and (3 == 5)\n",
    "    - False\n",
    "- not(5 > 4)\n",
    "    - False\n",
    "- (5 > 4) or (3 == 5)\n",
    "    - True\n",
    "- not((5 > 4) or (3 == 5))\n",
    "    - False\n",
    "- (True and True) and (True == False)\n",
    "    - False\n",
    "- (not False) or (not True)\n",
    "    - True\n"
   ]
  },
  {
   "cell_type": "markdown",
   "metadata": {},
   "source": [
    "Q5. What are the six comparison operators?\n",
    "- comparison operators \n",
    "    - == , != , < , > , <= , and >="
   ]
  },
  {
   "cell_type": "markdown",
   "metadata": {},
   "source": [
    "Q6. How do you tell the difference between the equal to and assignment\n",
    "operators? Describe a condition and when you would use one.\n",
    "- == ,is use to compare two values that return boolean.(4==5)\n",
    "- = ,is assignment operation that use to store a value in a variable(x=5) "
   ]
  },
  {
   "cell_type": "markdown",
   "metadata": {},
   "source": [
    "Q7. Identify the three blocks in this code:"
   ]
  },
  {
   "cell_type": "code",
   "execution_count": 1,
   "metadata": {},
   "outputs": [
    {
     "name": "stdout",
     "output_type": "stream",
     "text": [
      "ham\n",
      "spam\n",
      "spam\n"
     ]
    }
   ],
   "source": [
    "spam = 0\n",
    "if spam == 10:\n",
    "    print('eggs') #Block 1\n",
    "if spam > 5:\n",
    "    print('bacon')# Block 2\n",
    "else:\n",
    "    print('ham')# Block 3\n",
    "    print('spam')\n",
    "    print('spam')"
   ]
  },
  {
   "cell_type": "markdown",
   "metadata": {},
   "source": [
    "Q8. Write code that prints Hello if\n",
    "1 is stored in spam, prints Howdy if\n",
    "2 is stored in spam, and prints\n",
    "Greetings! if anything else is\n",
    "stored in spam."
   ]
  },
  {
   "cell_type": "code",
   "execution_count": 2,
   "metadata": {},
   "outputs": [
    {
     "name": "stdout",
     "output_type": "stream",
     "text": [
      "Enter a number:1\n",
      "Hello\n"
     ]
    }
   ],
   "source": [
    "spam =int(input(\"Enter a number:\"))\n",
    "if spam==1:\n",
    "    print(\"Hello\")\n",
    "elif spam==2:\n",
    "    print(\"Howdy\")\n",
    "else:\n",
    "    print(\"Greeting!\")\n"
   ]
  },
  {
   "cell_type": "markdown",
   "metadata": {},
   "source": [
    "Q9.If your programme is stuck in an\n",
    "endless loop, what keys you’ll press?\n",
    "- Close the terminal or restart the kernal "
   ]
  },
  {
   "cell_type": "markdown",
   "metadata": {},
   "source": [
    "Q10. How can you tell the difference between break and continue?"
   ]
  },
  {
   "cell_type": "code",
   "execution_count": 5,
   "metadata": {},
   "outputs": [
    {
     "name": "stdout",
     "output_type": "stream",
     "text": [
      "0\n",
      "1\n",
      "2\n",
      "3\n",
      "4\n",
      "-------------\n",
      "0\n",
      "1\n",
      "2\n",
      "3\n",
      "4\n",
      "6\n",
      "7\n",
      "8\n",
      "9\n"
     ]
    }
   ],
   "source": [
    "# Break use to terminate the loop\n",
    "\n",
    "for i in range(10):\n",
    "    if i==5:\n",
    "        break\n",
    "    print(i)\n",
    "print(\"-------------\")\n",
    "\n",
    "# continue use to skip that line and continue loop\n",
    "for j in range(10):\n",
    "    if j == 5:\n",
    "        continue\n",
    "    print(j)"
   ]
  },
  {
   "cell_type": "markdown",
   "metadata": {},
   "source": [
    "Q11. In a for loop, what is the\n",
    "difference between range(10), range\n",
    "(0, 10), and range(0, 10, 1)?"
   ]
  },
  {
   "cell_type": "code",
   "execution_count": 8,
   "metadata": {},
   "outputs": [
    {
     "name": "stdout",
     "output_type": "stream",
     "text": [
      "0\n",
      "1\n",
      "2\n",
      "3\n",
      "4\n",
      "5\n",
      "6\n",
      "7\n",
      "8\n",
      "9\n",
      "----------------\n",
      "0\n",
      "1\n",
      "2\n",
      "3\n",
      "4\n",
      "5\n",
      "6\n",
      "7\n",
      "8\n",
      "9\n",
      "----------------\n",
      "0\n",
      "1\n",
      "2\n",
      "3\n",
      "4\n",
      "5\n",
      "6\n",
      "7\n",
      "8\n",
      "9\n"
     ]
    }
   ],
   "source": [
    "for i in range(10):\n",
    "    print(i)\n",
    "print(\"----------------\")\n",
    "\n",
    "for j in range(0,10):\n",
    "    print(j)\n",
    "print(\"----------------\")\n",
    "\n",
    "for k in range(0,10,1):\n",
    "    print(k)"
   ]
  },
  {
   "cell_type": "markdown",
   "metadata": {},
   "source": [
    "we can say that no difference b/w then.i start from 0 to 10(not included) and increament by 1.\n",
    "if we want to k increment by 2 then we can write like (0,10,2) "
   ]
  },
  {
   "cell_type": "markdown",
   "metadata": {},
   "source": [
    "Q12. Write a short program that prints the numbers 1 to 10 using a for loop. Then write an equivalent\n",
    "program that prints the numbers 1 to 10 using a while loop.\n"
   ]
  },
  {
   "cell_type": "code",
   "execution_count": null,
   "metadata": {},
   "outputs": [],
   "source": [
    "for i in range(1,11):\n",
    "    print(i)"
   ]
  },
  {
   "cell_type": "code",
   "execution_count": null,
   "metadata": {},
   "outputs": [],
   "source": [
    "j=1\n",
    "while (j<= 10):\n",
    "    print(j)\n",
    "    j+=1"
   ]
  },
  {
   "cell_type": "markdown",
   "metadata": {},
   "source": [
    "Q13. If you had a function named bacon() inside a module named spam, how would you call it after\n",
    "importing spam?"
   ]
  },
  {
   "cell_type": "markdown",
   "metadata": {},
   "source": [
    "tis can be import like \n",
    "- from spam import bacon"
   ]
  }
 ],
 "metadata": {
  "kernelspec": {
   "display_name": "Python 3 (ipykernel)",
   "language": "python",
   "name": "python3"
  },
  "language_info": {
   "codemirror_mode": {
    "name": "ipython",
    "version": 3
   },
   "file_extension": ".py",
   "mimetype": "text/x-python",
   "name": "python",
   "nbconvert_exporter": "python",
   "pygments_lexer": "ipython3",
   "version": "3.9.12"
  },
  "vscode": {
   "interpreter": {
    "hash": "8891f3cfb547db503e78f25128202364d60f1c09259e140a1bd236c27b0b7a43"
   }
  }
 },
 "nbformat": 4,
 "nbformat_minor": 2
}
