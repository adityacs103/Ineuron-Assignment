{
 "cells": [
  {
   "cell_type": "markdown",
   "metadata": {},
   "source": [
    "Q1.\n",
    "- Expression:- * , - , / , + ,\n",
    "- Values:- 'hello' , -87.8 , 6 ,"
   ]
  },
  {
   "cell_type": "markdown",
   "metadata": {},
   "source": [
    "Q2.\n",
    "- variable:- A variable is a container that can store any imformation.\n",
    "- String:- string is only a data type that can be store sting type of information"
   ]
  },
  {
   "cell_type": "markdown",
   "metadata": {},
   "source": [
    "Q3.\n",
    "- Integers:- represent only int class values. It contains possitive and negative values without decimal\n",
    "- String:- It contains characters type of data. It contains one or more than one characters.\n",
    "- Float:- It is represented by float class.it contain possitive and negative value and decimal value also. "
   ]
  },
  {
   "cell_type": "markdown",
   "metadata": {},
   "source": [
    "Q4.\n",
    "- An expression is a construct made up of variables, operators, and method\n"
   ]
  },
  {
   "cell_type": "markdown",
   "metadata": {},
   "source": [
    "Q5.\n",
    "- spam=10 , is a statement\n",
    "- x+2 is a expression \n",
    "- x=10 is a statement\n"
   ]
  },
  {
   "cell_type": "markdown",
   "metadata": {},
   "source": [
    "Q6.\n",
    "- 23"
   ]
  },
  {
   "cell_type": "markdown",
   "metadata": {},
   "source": [
    "Q7.\n",
    "- 'spam'+'spamspam' = spamspamspam\n",
    "- 'spam'*3 = spamspamspam"
   ]
  },
  {
   "cell_type": "markdown",
   "metadata": {},
   "source": [
    "Q8. \n",
    "- in python we can use variable name starting with character but we can't use variable name starting with nummber"
   ]
  },
  {
   "cell_type": "markdown",
   "metadata": {},
   "source": [
    "Q9.\n",
    "- int\n",
    "- double\n",
    "- str"
   ]
  },
  {
   "cell_type": "markdown",
   "metadata": {},
   "source": [
    "Q10.\n",
    "- 'I have eaten'+ 99 + 'burritos'\n",
    "- we cannot Concatenate String and Int together\n",
    "- 'I have eaten'+ '99' + 'burritos' this is the right way \n"
   ]
  },
  {
   "cell_type": "markdown",
   "metadata": {},
   "source": []
  }
 ],
 "metadata": {
  "kernelspec": {
   "display_name": "Python 3.9.12 ('base')",
   "language": "python",
   "name": "python3"
  },
  "language_info": {
   "codemirror_mode": {
    "name": "ipython",
    "version": 3
   },
   "file_extension": ".py",
   "mimetype": "text/x-python",
   "name": "python",
   "nbconvert_exporter": "python",
   "pygments_lexer": "ipython3",
   "version": "3.9.12"
  },
  "vscode": {
   "interpreter": {
    "hash": "8891f3cfb547db503e78f25128202364d60f1c09259e140a1bd236c27b0b7a43"
   }
  }
 },
 "nbformat": 4,
 "nbformat_minor": 2
}
