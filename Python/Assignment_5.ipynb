{
 "cells": [
  {
   "cell_type": "markdown",
   "metadata": {},
   "source": [
    "Q1. What does an empty dictionary's code look like?"
   ]
  },
  {
   "cell_type": "code",
   "execution_count": 1,
   "metadata": {},
   "outputs": [
    {
     "name": "stdout",
     "output_type": "stream",
     "text": [
      "{}\n",
      "Length= 0\n"
     ]
    }
   ],
   "source": [
    "empty_dict={}\n",
    "print(empty_dict)\n",
    "print(\"Length=\",len(empty_dict))"
   ]
  },
  {
   "cell_type": "markdown",
   "metadata": {},
   "source": [
    "Q2. What is the value of a dictionary value with the key 'foo' and the value 42?"
   ]
  },
  {
   "cell_type": "code",
   "execution_count": 2,
   "metadata": {},
   "outputs": [
    {
     "name": "stdout",
     "output_type": "stream",
     "text": [
      "{'foo': 42}\n",
      "42\n"
     ]
    }
   ],
   "source": [
    "dict={\n",
    "    \"foo\":42\n",
    "}\n",
    "print(dict)\n",
    "print(dict[\"foo\"])"
   ]
  },
  {
   "cell_type": "markdown",
   "metadata": {},
   "source": [
    "Q3. What is the most significant distinction between a dictionary and a list?"
   ]
  },
  {
   "cell_type": "markdown",
   "metadata": {},
   "source": [
    "- List-The elements are accessed via indices\n",
    "- Dictionary- The elements are accessed via key-values."
   ]
  },
  {
   "cell_type": "markdown",
   "metadata": {},
   "source": [
    "Q4. What happens if you try to access spam['foo'] if spam is {'bar': 100}?"
   ]
  },
  {
   "cell_type": "markdown",
   "metadata": {},
   "source": [
    "- we will get a keyError KeyError: 'foo'"
   ]
  },
  {
   "cell_type": "markdown",
   "metadata": {},
   "source": [
    "Q5. If a dictionary is stored in spam, what is the difference between the expressions 'cat' in spam and\n",
    "'cat' in spam.keys()?\n",
    "- There is no difference . The operator checks whether a value exits as a key in the dictionary or not"
   ]
  },
  {
   "cell_type": "markdown",
   "metadata": {},
   "source": [
    "Q6.if a dictionary is stored in spam,what is the difference between the expressions 'cat' in spam and 'cat' in spam.values() ?\n",
    "- 'cat' in spam checks whether there is a 'cat' key in the dictionary, while 'cat' in spam.values() checks whether there is a value 'cat' for one of the keys in spam."
   ]
  },
  {
   "cell_type": "markdown",
   "metadata": {},
   "source": [
    "Q7.what is a shortcut for the following code ?\n",
    "if 'color' not in spam: spam['color'] ='black'\n",
    "- spam.setdefault('color','black')"
   ]
  },
  {
   "cell_type": "markdown",
   "metadata": {},
   "source": [
    "Q8. How do you \"pretty print\" dictionary values using which module and function?"
   ]
  },
  {
   "cell_type": "code",
   "execution_count": 7,
   "metadata": {},
   "outputs": [
    {
     "name": "stdout",
     "output_type": "stream",
     "text": [
      "[{'age': 22,\n",
      "  'name': 'Aditya',\n",
      "  'residence': {'country': 'India', 'state': 'Bihar'}},\n",
      " {'age': 22,\n",
      "  'name': 'suman',\n",
      "  'residence': {'country': 'India', 'state': 'Bihar'}},\n",
      " {'age': 21, 'name': 'Amit', 'residence': {'country': 'India', 'state': 'up'}},\n",
      " {'age': 23, 'name': 'Anshu', 'residence': {'country': 'India', 'state': 'MP'}},\n",
      " {'age': 22,\n",
      "  'name': 'Raushan',\n",
      "  'residence': {'country': 'India', 'state': 'Rajasthan'}}]\n"
     ]
    }
   ],
   "source": [
    "import pprint\n",
    "s_dict=[\n",
    "    {\"name\":\"Aditya\",\"age\":22,\"residence\":{\"country\":\"India\",\"state\":\"Bihar\"}},\n",
    "    {\"name\":\"suman\",\"age\":22,\"residence\":{\"country\":\"India\",\"state\":\"Bihar\"}},\n",
    "    {\"name\":\"Amit\",\"age\":21,\"residence\":{\"country\":\"India\",\"state\":\"up\"}},\n",
    "    {\"name\":\"Anshu\",\"age\":23,\"residence\":{\"country\":\"India\",\"state\":\"MP\"}},\n",
    "    {\"name\":\"Raushan\",\"age\":22,\"residence\":{\"country\":\"India\",\"state\":\"Rajasthan\"}}\n",
    "]\n",
    "# print(s_dict)\n",
    "pprint.pprint(s_dict)"
   ]
  }
 ],
 "metadata": {
  "kernelspec": {
   "display_name": "Python 3.9.12 ('Ineuron_Envarment')",
   "language": "python",
   "name": "python3"
  },
  "language_info": {
   "codemirror_mode": {
    "name": "ipython",
    "version": 3
   },
   "file_extension": ".py",
   "mimetype": "text/x-python",
   "name": "python",
   "nbconvert_exporter": "python",
   "pygments_lexer": "ipython3",
   "version": "3.9.12"
  },
  "orig_nbformat": 4,
  "vscode": {
   "interpreter": {
    "hash": "03ee49d135c04881ae1b130394ad4b408a5427589e10da6e6224129121bcb54a"
   }
  }
 },
 "nbformat": 4,
 "nbformat_minor": 2
}
